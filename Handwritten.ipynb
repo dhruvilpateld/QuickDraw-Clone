{
  "nbformat": 4,
  "nbformat_minor": 0,
  "metadata": {
    "colab": {
      "provenance": [],
      "mount_file_id": "1hmZtt_j_9mo5Mrusb_aqgGXrbYfBoY1x",
      "authorship_tag": "ABX9TyOoSgX8TE7jXBe32WC+u1en"
    },
    "kernelspec": {
      "name": "python3",
      "display_name": "Python 3"
    },
    "language_info": {
      "name": "python"
    }
  },
  "cells": [
    {
      "cell_type": "markdown",
      "source": [
        "Installing ngrok"
      ],
      "metadata": {
        "id": "psRAeKYphlA9"
      }
    },
    {
      "cell_type": "code",
      "source": [
        "!pip install pyngrok"
      ],
      "metadata": {
        "colab": {
          "base_uri": "https://localhost:8080/"
        },
        "id": "nFPWDqkLhm6i",
        "outputId": "a99d7be7-9fcb-4a91-9a84-e368ea921de4"
      },
      "execution_count": null,
      "outputs": [
        {
          "output_type": "stream",
          "name": "stdout",
          "text": [
            "Requirement already satisfied: pyngrok in /usr/local/lib/python3.10/dist-packages (7.1.6)\n",
            "Requirement already satisfied: PyYAML>=5.1 in /usr/local/lib/python3.10/dist-packages (from pyngrok) (6.0.1)\n"
          ]
        }
      ]
    },
    {
      "cell_type": "code",
      "source": [
        "!ngrok authtoken"
      ],
      "metadata": {
        "colab": {
          "base_uri": "https://localhost:8080/"
        },
        "id": "ITrFz9vC-rLB",
        "outputId": "142b3eb1-59a6-42f1-fb62-abaaaed458d1"
      },
      "execution_count": null,
      "outputs": [
        {
          "output_type": "stream",
          "name": "stdout",
          "text": [
            "Authtoken saved to configuration file: /root/.config/ngrok/ngrok.yml\n"
          ]
        }
      ]
    },
    {
      "cell_type": "code",
      "source": [
        "!pip install flask-ngrok"
      ],
      "metadata": {
        "colab": {
          "base_uri": "https://localhost:8080/"
        },
        "id": "SKQE79aPiVoX",
        "outputId": "ca086100-79ce-43d8-aa95-7e5b17d434ef"
      },
      "execution_count": null,
      "outputs": [
        {
          "output_type": "stream",
          "name": "stdout",
          "text": [
            "Requirement already satisfied: flask-ngrok in /usr/local/lib/python3.10/dist-packages (0.0.25)\n",
            "Requirement already satisfied: Flask>=0.8 in /usr/local/lib/python3.10/dist-packages (from flask-ngrok) (0.12.2)\n",
            "Requirement already satisfied: requests in /usr/local/lib/python3.10/dist-packages (from flask-ngrok) (2.31.0)\n",
            "Requirement already satisfied: Jinja2>=2.4 in /usr/local/lib/python3.10/dist-packages (from Flask>=0.8->flask-ngrok) (3.0.0)\n",
            "Requirement already satisfied: Werkzeug>=0.7 in /usr/local/lib/python3.10/dist-packages (from Flask>=0.8->flask-ngrok) (2.2.2)\n",
            "Requirement already satisfied: click>=2.0 in /usr/local/lib/python3.10/dist-packages (from Flask>=0.8->flask-ngrok) (8.1.7)\n",
            "Requirement already satisfied: itsdangerous>=0.21 in /usr/local/lib/python3.10/dist-packages (from Flask>=0.8->flask-ngrok) (2.0.1)\n",
            "Requirement already satisfied: charset-normalizer<4,>=2 in /usr/local/lib/python3.10/dist-packages (from requests->flask-ngrok) (3.3.2)\n",
            "Requirement already satisfied: idna<4,>=2.5 in /usr/local/lib/python3.10/dist-packages (from requests->flask-ngrok) (3.7)\n",
            "Requirement already satisfied: urllib3<3,>=1.21.1 in /usr/local/lib/python3.10/dist-packages (from requests->flask-ngrok) (2.0.7)\n",
            "Requirement already satisfied: certifi>=2017.4.17 in /usr/local/lib/python3.10/dist-packages (from requests->flask-ngrok) (2024.6.2)\n",
            "Requirement already satisfied: MarkupSafe>=2.0.0rc2 in /usr/local/lib/python3.10/dist-packages (from Jinja2>=2.4->Flask>=0.8->flask-ngrok) (2.1.5)\n"
          ]
        }
      ]
    },
    {
      "cell_type": "code",
      "source": [
        "cd /content/drive/MyDrive/handwrittenproject"
      ],
      "metadata": {
        "id": "VMlumO5anO9u",
        "outputId": "5af4e162-7403-4a71-a2ed-13cb46a09d3c",
        "colab": {
          "base_uri": "https://localhost:8080/"
        }
      },
      "execution_count": null,
      "outputs": [
        {
          "output_type": "stream",
          "name": "stdout",
          "text": [
            "/content/drive/MyDrive/handwrittenproject\n"
          ]
        }
      ]
    },
    {
      "cell_type": "code",
      "source": [
        "# import flask\n",
        "# from flask import Flask,render_template,url_for,request\n",
        "import pickle\n",
        "import base64\n",
        "import numpy as np\n",
        "import cv2\n",
        "import tensorflow as tf\n",
        "import torch\n",
        "from keras.models import load_model"
      ],
      "metadata": {
        "id": "r52m1CDqsf2-"
      },
      "execution_count": null,
      "outputs": []
    },
    {
      "cell_type": "code",
      "source": [
        "vect=None\n",
        "# CLASSES = [\"apple\", \"book\", \"bowtie\", \"candle\", \"cloud\", \"cup\", \"door\", \"envelope\", \"eyeglasses\", \"guitar\", \"hammer\",\n",
        "#            \"hat\", \"ice cream\", \"leaf\", \"scissors\", \"star\", \"t-shirt\", \"pants\", \"lightning\", \"tree\"]\n",
        "\n",
        "emojis = [\n",
        "    \"Apple\",\n",
        "    \"Bowtie\",\n",
        "    \"Candle\",\n",
        "    \"Door\",\n",
        "    \"Envelope\",\n",
        "    \"Fish\",\n",
        "    \"Guitar\",\n",
        "    \"Ice Cream\",\n",
        "    \"Lightning\",\n",
        "    \"Moon\",\n",
        "    \"Mountain\",\n",
        "    \"Star\",\n",
        "    \"Tent\",\n",
        "    \"Toothbrush\",\n",
        "    \"Wristwatch\"\n",
        "]\n"
      ],
      "metadata": {
        "id": "cdHd-t_fYs7u"
      },
      "execution_count": null,
      "outputs": []
    },
    {
      "cell_type": "code",
      "source": [
        "!pip install flask==0.12.2"
      ],
      "metadata": {
        "colab": {
          "base_uri": "https://localhost:8080/"
        },
        "id": "bz5rdM7w_zSZ",
        "outputId": "f8f0a5b5-087c-4594-bd4f-05f9feb23f82"
      },
      "execution_count": null,
      "outputs": [
        {
          "output_type": "stream",
          "name": "stdout",
          "text": [
            "Requirement already satisfied: flask==0.12.2 in /usr/local/lib/python3.10/dist-packages (0.12.2)\n",
            "Requirement already satisfied: Jinja2>=2.4 in /usr/local/lib/python3.10/dist-packages (from flask==0.12.2) (3.0.0)\n",
            "Requirement already satisfied: Werkzeug>=0.7 in /usr/local/lib/python3.10/dist-packages (from flask==0.12.2) (2.2.2)\n",
            "Requirement already satisfied: click>=2.0 in /usr/local/lib/python3.10/dist-packages (from flask==0.12.2) (8.1.7)\n",
            "Requirement already satisfied: itsdangerous>=0.21 in /usr/local/lib/python3.10/dist-packages (from flask==0.12.2) (2.0.1)\n",
            "Requirement already satisfied: MarkupSafe>=2.0.0rc2 in /usr/local/lib/python3.10/dist-packages (from Jinja2>=2.4->flask==0.12.2) (2.1.5)\n"
          ]
        }
      ]
    },
    {
      "cell_type": "code",
      "source": [
        "!pip install jinja2==3.0"
      ],
      "metadata": {
        "colab": {
          "base_uri": "https://localhost:8080/"
        },
        "id": "rIRN1kfvW0Ho",
        "outputId": "0c45b30e-85cc-4aca-9f52-d4601a0617e6"
      },
      "execution_count": null,
      "outputs": [
        {
          "output_type": "stream",
          "name": "stdout",
          "text": [
            "Requirement already satisfied: jinja2==3.0 in /usr/local/lib/python3.10/dist-packages (3.0.0)\n",
            "Requirement already satisfied: MarkupSafe>=2.0.0rc2 in /usr/local/lib/python3.10/dist-packages (from jinja2==3.0) (2.1.5)\n"
          ]
        }
      ]
    },
    {
      "cell_type": "code",
      "source": [
        "!pip install Werkzeug==2.2.2"
      ],
      "metadata": {
        "colab": {
          "base_uri": "https://localhost:8080/"
        },
        "id": "khKQoxcVXXPM",
        "outputId": "5c49c536-5607-4744-c107-4742c9a2c2bc"
      },
      "execution_count": null,
      "outputs": [
        {
          "output_type": "stream",
          "name": "stdout",
          "text": [
            "Requirement already satisfied: Werkzeug==2.2.2 in /usr/local/lib/python3.10/dist-packages (2.2.2)\n",
            "Requirement already satisfied: MarkupSafe>=2.1.1 in /usr/local/lib/python3.10/dist-packages (from Werkzeug==2.2.2) (2.1.5)\n"
          ]
        }
      ]
    },
    {
      "cell_type": "code",
      "source": [
        "!pip install itsdangerous==2.0.1"
      ],
      "metadata": {
        "colab": {
          "base_uri": "https://localhost:8080/"
        },
        "id": "J9UGEZmOYPNQ",
        "outputId": "344a64b0-0c5d-40da-f921-a4647859df79"
      },
      "execution_count": null,
      "outputs": [
        {
          "output_type": "stream",
          "name": "stdout",
          "text": [
            "Requirement already satisfied: itsdangerous==2.0.1 in /usr/local/lib/python3.10/dist-packages (2.0.1)\n"
          ]
        }
      ]
    },
    {
      "cell_type": "code",
      "source": [
        "from flask import Flask,render_template,url_for,request"
      ],
      "metadata": {
        "id": "RhkB9UipAMwT"
      },
      "execution_count": null,
      "outputs": []
    },
    {
      "cell_type": "code",
      "source": [
        "from flask_ngrok import run_with_ngrok\n",
        "from flask import Flask, request, render_template\n",
        "from werkzeug.utils import secure_filename\n",
        "from pyngrok import ngrok\n",
        "import os\n",
        "\n",
        "app = Flask(__name__)\n",
        "\n",
        "# run_with_ngrok(app)\n",
        "\n",
        "init_Base64 = 21;\n",
        "# model = tf.keras.models.load_model('/content/drive/MyDrive/handwrittenproject/model/handwritten_digits.model')\n",
        "# model = torch.load(\"/content/whole_model_quickdraw\")\n",
        "model = load_model('/content/QuickDraw.h5')\n",
        "\n",
        "@app.route('/')\n",
        "def home():\n",
        "\treturn render_template('draw.html')\n",
        "\n",
        "@app.route('/predict', methods=['POST'])\n",
        "def predict():\n",
        "  if request.method == 'POST':\n",
        "          #Preprocess the image : set the image to 28x28 shape\n",
        "          #Access the image\n",
        "          draw = request.form['url']\n",
        "          #Removing the useless part of the url.\n",
        "          draw = draw[init_Base64:]\n",
        "          #Decoding\n",
        "          draw_decoded = base64.b64decode(draw)\n",
        "          image = np.asarray(bytearray(draw_decoded), dtype=\"uint8\")\n",
        "          image = cv2.imdecode(image, cv2.IMREAD_GRAYSCALE)\n",
        "          #Resizing and reshaping to keep the ratio.\n",
        "          resized = cv2.resize(image, (28,28), interpolation = cv2.INTER_AREA)\n",
        "          vect = np.array(resized, dtype=np.float32)\n",
        "          # [None, None, :, :]\n",
        "          # vect = torch.from_numpy(vect)\n",
        "          # logits = model(vect)\n",
        "          # print(CLASSES[torch.argmax(logits[0])])\n",
        "          # vect = np.asarray(resized, dtype=\"uint8\")\n",
        "          # vect = vect.reshape(1, 1, 28, 28).astype('float32')\n",
        "          vect = np.reshape(vect, (-1, 28, 28, 1))\n",
        "          # vect = vect.reshape(-1, 28, 28)\n",
        "          # processed = keras_process_image(image)\n",
        "          # print(\"processed: \" + str(processed.shape))\n",
        "          pred_probab = model.predict(vect)[0]\n",
        "          pred_class = list(pred_probab).index(max(pred_probab))\n",
        "          index = emojis[pred_class]\n",
        "          #Launch prediction\n",
        "          # my_prediction = model.predict(vect)\n",
        "          #Getting the index of the maximum prediction\n",
        "          # index = np.argmax(my_prediction[0])\n",
        "          # index = CLASSES[torch.argmax(logits[0])]\n",
        "          #Associating the index and its value within the dictionnary\n",
        "\n",
        "  return render_template('results.html', prediction =index)\n",
        "\n",
        "# public_url = ngrok.connect(5000)\n",
        "\n",
        "# if __name__ == '__main__':\n",
        "#     app.run()\n",
        "\n",
        "if __name__ == '__main__':\n",
        "    # Set up the port\n",
        "    port = 5003\n",
        "\n",
        "    # Open an ngrok tunnel to the port\n",
        "    public_url = ngrok.connect(port)\n",
        "    print(f\" * ngrok tunnel \\\"{public_url}\\\" -> \\\"http://127.0.0.1:{port}\\\"\")\n",
        "\n",
        "    # Run the Flask app\n",
        "    app.run(port=port)"
      ],
      "metadata": {
        "id": "td58SdZEsjNG"
      },
      "execution_count": null,
      "outputs": []
    }
  ]
}